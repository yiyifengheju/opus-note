{
 "cells": [
  {
   "cell_type": "markdown",
   "id": "31782ed7269c0351",
   "metadata": {},
   "source": [
    "标准库`concurrent.futures`提供了`ThreadPoolExecutor`（线程池）和`ProcessPoolExecutor`（进程池）两个类"
   ]
  },
  {
   "cell_type": "code",
   "execution_count": 1,
   "id": "5ab193bcb6b6059f",
   "metadata": {
    "ExecuteTime": {
     "end_time": "2023-11-17T19:08:17.824585800Z",
     "start_time": "2023-11-17T19:08:17.807695400Z"
    }
   },
   "outputs": [],
   "source": [
    "from concurrent.futures import ThreadPoolExecutor,ProcessPoolExecutor\n",
    "import time"
   ]
  },
  {
   "cell_type": "code",
   "execution_count": 2,
   "id": "2de747c5",
   "metadata": {},
   "outputs": [],
   "source": [
    "def run(delay):\n",
    "    time.sleep(delay)\n",
    "    print(f'Delay {delay} Finished')\n",
    "    return delay"
   ]
  },
  {
   "cell_type": "code",
   "execution_count": 3,
   "id": "e13b3b33e05cf64c",
   "metadata": {},
   "outputs": [
    {
     "name": "stdout",
     "output_type": "stream",
     "text": [
      "task1: False\n",
      "task2: False\n",
      "task3: False\n",
      "Delay 1 Finished\n",
      "Delay 2 Finished\n",
      "task1: True\n",
      "task2: True\n",
      "task3: False\n",
      "1\n",
      "Delay 3 Finished\n"
     ]
    }
   ],
   "source": [
    "# 创建一个最大容量为5的线程池\n",
    "with ThreadPoolExecutor(max_workers=5) as t:\n",
    "    task1 = t.submit(run,1)\n",
    "    task2 = t.submit(run,2)    \n",
    "    task3 = t.submit(run,3)    \n",
    "    \n",
    "    # 通过done来判断线程是否完成\n",
    "    print(f\"task1: {task1.done()}\")  \n",
    "    print(f\"task2: {task2.done()}\")\n",
    "    print(f\"task3: {task3.done()}\")\n",
    "    print()\n",
    "\n",
    "    time.sleep(2.5)\n",
    "    print(f\"task1: {task1.done()}\")\n",
    "    print(f\"task2: {task2.done()}\")\n",
    "    print(f\"task3: {task3.done()}\")\n",
    "    \n",
    "    # 通过result来获取返回值\n",
    "    print(task1.result())  \n"
   ]
  },
  {
   "cell_type": "code",
   "execution_count": null,
   "id": "ab7c9862742918ac",
   "metadata": {},
   "outputs": [],
   "source": []
  },
  {
   "cell_type": "code",
   "execution_count": null,
   "id": "ba03dd2b06ffe3b8",
   "metadata": {},
   "outputs": [],
   "source": []
  },
  {
   "cell_type": "code",
   "execution_count": null,
   "id": "8e7339db58e1cac3",
   "metadata": {},
   "outputs": [],
   "source": []
  },
  {
   "cell_type": "code",
   "execution_count": null,
   "id": "8eec277c1a539aba",
   "metadata": {},
   "outputs": [],
   "source": []
  },
  {
   "cell_type": "code",
   "execution_count": null,
   "id": "a6f3224bc8e460ce",
   "metadata": {},
   "outputs": [],
   "source": []
  },
  {
   "cell_type": "code",
   "execution_count": null,
   "id": "a2b757bff2a2ae08",
   "metadata": {},
   "outputs": [],
   "source": []
  },
  {
   "cell_type": "code",
   "execution_count": null,
   "id": "a7c4250ef3d0c8b5",
   "metadata": {},
   "outputs": [],
   "source": []
  },
  {
   "cell_type": "code",
   "execution_count": null,
   "id": "50da9708418732f2",
   "metadata": {},
   "outputs": [],
   "source": []
  },
  {
   "cell_type": "code",
   "execution_count": null,
   "id": "ba35e699af00d417",
   "metadata": {},
   "outputs": [],
   "source": []
  },
  {
   "cell_type": "code",
   "execution_count": null,
   "id": "ecd8c459082eb6da",
   "metadata": {},
   "outputs": [],
   "source": []
  },
  {
   "cell_type": "code",
   "execution_count": null,
   "id": "4ca8fc74908f5dd1",
   "metadata": {},
   "outputs": [],
   "source": []
  },
  {
   "cell_type": "code",
   "execution_count": null,
   "id": "4539662133f7f7fc",
   "metadata": {},
   "outputs": [],
   "source": []
  },
  {
   "cell_type": "code",
   "execution_count": null,
   "id": "a93c589074398f1d",
   "metadata": {},
   "outputs": [],
   "source": []
  },
  {
   "cell_type": "code",
   "execution_count": null,
   "id": "19c8528c6f24ec74",
   "metadata": {},
   "outputs": [],
   "source": []
  },
  {
   "cell_type": "code",
   "execution_count": null,
   "id": "6f565624",
   "metadata": {},
   "outputs": [],
   "source": []
  }
 ],
 "metadata": {
  "kernelspec": {
   "display_name": "Python 3 (ipykernel)",
   "language": "python",
   "name": "python3"
  },
  "language_info": {
   "codemirror_mode": {
    "name": "ipython",
    "version": 3
   },
   "file_extension": ".py",
   "mimetype": "text/x-python",
   "name": "python",
   "nbconvert_exporter": "python",
   "pygments_lexer": "ipython3",
   "version": "3.11.3"
  }
 },
 "nbformat": 4,
 "nbformat_minor": 5
}
