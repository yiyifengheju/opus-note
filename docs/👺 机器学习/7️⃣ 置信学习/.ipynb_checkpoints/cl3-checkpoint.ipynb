{
 "cells": [
  {
   "cell_type": "markdown",
   "id": "1dc18eed-81fc-4f16-ab93-c188a55e0463",
   "metadata": {},
   "source": [
    "# 🎈 CleanLab之三：回归问题\n",
    "\n",
    "回归预测的是价格、收入、年龄等数值。回归数据集中的响应值可能由于以下原因而损坏：数据输入或测量错误、传感器或其他过程的噪声或数据管道损坏。为了查找数字列中的损坏值，我们将其视为目标值（即标签），由回归模型进行预测，然后使用 cleanlab 确定模型预测在偏离观察到的标签值时是否可信。[^1]\n",
    "\n",
    "[^1]: [Find Noisy Labels in Regression Datasets](https://docs.cleanlab.ai/stable/tutorials/regression.html)"
   ]
  },
  {
   "cell_type": "markdown",
   "id": "40df7579-909f-4a53-83be-dd19b7921d61",
   "metadata": {},
   "source": [
    "## 壹丨导入依赖"
   ]
  },
  {
   "cell_type": "code",
   "execution_count": 1,
   "id": "bb75d9e7d7996e83",
   "metadata": {
    "ExecuteTime": {
     "end_time": "2024-07-31T16:44:41.538138Z",
     "start_time": "2024-07-31T16:44:39.991120Z"
    }
   },
   "outputs": [],
   "source": [
    "import pandas as pd\n",
    "from sklearn.ensemble import HistGradientBoostingRegressor\n",
    "from sklearn.model_selection import cross_val_predict\n",
    "from sklearn.metrics import r2_score\n",
    "\n",
    "from cleanlab.regression.learn import CleanLearning"
   ]
  },
  {
   "cell_type": "markdown",
   "id": "8464ca42-6883-4e74-a172-507cd8b6e261",
   "metadata": {},
   "source": [
    "## 贰丨加载并处理数据"
   ]
  },
  {
   "cell_type": "code",
   "execution_count": 2,
   "id": "2ae64b323258637d",
   "metadata": {},
   "outputs": [
    {
     "data": {
      "text/html": [
       "<div>\n",
       "<style scoped>\n",
       "    .dataframe tbody tr th:only-of-type {\n",
       "        vertical-align: middle;\n",
       "    }\n",
       "\n",
       "    .dataframe tbody tr th {\n",
       "        vertical-align: top;\n",
       "    }\n",
       "\n",
       "    .dataframe thead th {\n",
       "        text-align: right;\n",
       "    }\n",
       "</style>\n",
       "<table border=\"1\" class=\"dataframe\">\n",
       "  <thead>\n",
       "    <tr style=\"text-align: right;\">\n",
       "      <th></th>\n",
       "      <th>exam_1</th>\n",
       "      <th>exam_2</th>\n",
       "      <th>exam_3</th>\n",
       "      <th>notes</th>\n",
       "      <th>final_score</th>\n",
       "      <th>true_final_score</th>\n",
       "    </tr>\n",
       "  </thead>\n",
       "  <tbody>\n",
       "    <tr>\n",
       "      <th>0</th>\n",
       "      <td>72</td>\n",
       "      <td>81</td>\n",
       "      <td>80</td>\n",
       "      <td>NaN</td>\n",
       "      <td>73.3</td>\n",
       "      <td>73.3</td>\n",
       "    </tr>\n",
       "    <tr>\n",
       "      <th>1</th>\n",
       "      <td>89</td>\n",
       "      <td>62</td>\n",
       "      <td>93</td>\n",
       "      <td>NaN</td>\n",
       "      <td>83.8</td>\n",
       "      <td>83.8</td>\n",
       "    </tr>\n",
       "    <tr>\n",
       "      <th>2</th>\n",
       "      <td>97</td>\n",
       "      <td>0</td>\n",
       "      <td>94</td>\n",
       "      <td>NaN</td>\n",
       "      <td>73.5</td>\n",
       "      <td>73.5</td>\n",
       "    </tr>\n",
       "    <tr>\n",
       "      <th>3</th>\n",
       "      <td>80</td>\n",
       "      <td>76</td>\n",
       "      <td>96</td>\n",
       "      <td>missed class frequently -10</td>\n",
       "      <td>78.6</td>\n",
       "      <td>78.6</td>\n",
       "    </tr>\n",
       "    <tr>\n",
       "      <th>4</th>\n",
       "      <td>67</td>\n",
       "      <td>87</td>\n",
       "      <td>95</td>\n",
       "      <td>missed homework frequently -10</td>\n",
       "      <td>74.1</td>\n",
       "      <td>74.1</td>\n",
       "    </tr>\n",
       "  </tbody>\n",
       "</table>\n",
       "</div>"
      ],
      "text/plain": [
       "   exam_1  exam_2  exam_3                           notes  final_score  \\\n",
       "0      72      81      80                             NaN         73.3   \n",
       "1      89      62      93                             NaN         83.8   \n",
       "2      97       0      94                             NaN         73.5   \n",
       "3      80      76      96     missed class frequently -10         78.6   \n",
       "4      67      87      95  missed homework frequently -10         74.1   \n",
       "\n",
       "   true_final_score  \n",
       "0              73.3  \n",
       "1              83.8  \n",
       "2              73.5  \n",
       "3              78.6  \n",
       "4              74.1  "
      ]
     },
     "execution_count": 2,
     "metadata": {},
     "output_type": "execute_result"
    }
   ],
   "source": [
    "import pandas as pd\n",
    "\n",
    "train_data = pd.read_csv(\"https://s.cleanlab.ai/student_grades_r/train.csv\")\n",
    "test_data = pd.read_csv(\"https://s.cleanlab.ai/student_grades_r/test.csv\")\n",
    "train_data.head()"
   ]
  },
  {
   "cell_type": "markdown",
   "id": "2e914557-3908-4788-96b3-a21259e0ed5f",
   "metadata": {},
   "source": [
    "`final_score`为噪声分数，`true_final_score`为真实分数。\n",
    "\n",
    "真实分数在现实中往往不可获取，这里仅做演示"
   ]
  },
  {
   "cell_type": "code",
   "execution_count": 3,
   "id": "3c8f70dbf819119e",
   "metadata": {},
   "outputs": [],
   "source": [
    "# Note: This pulldown content is for docs.cleanlab.ai, if running on local Jupyter or Colab, please ignore it.\n",
    "\n",
    "import numpy as np\n",
    "import matplotlib.pyplot as plt\n",
    "from mpl_toolkits.mplot3d import Axes3D\n",
    "\n",
    "def plot_data(train_data, errors_idx):\n",
    "    fig = plt.figure()\n",
    "    ax = fig.add_subplot(111, projection='3d')\n",
    "\n",
    "    x, y, z = train_data[\"exam_1\"], train_data[\"exam_2\"], train_data[\"exam_3\"]\n",
    "    labels = train_data[\"final_score\"]\n",
    "\n",
    "    img = ax.scatter(x, y, z, c=labels, cmap=\"jet\")\n",
    "    fig.colorbar(img)\n",
    "\n",
    "    ax.plot(\n",
    "        x.iloc[errors_idx],\n",
    "        y.iloc[errors_idx],\n",
    "        z.iloc[errors_idx],\n",
    "        \"x\",\n",
    "        markeredgecolor=\"black\",\n",
    "        markersize=10,\n",
    "        markeredgewidth=2.5,\n",
    "        alpha=0.8,\n",
    "        label=\"Label Errors\"\n",
    "    )\n",
    "    ax.legend()"
   ]
  },
  {
   "cell_type": "code",
   "execution_count": 4,
   "id": "147bc30b46bc1c36",
   "metadata": {},
   "outputs": [
    {
     "data": {
      "image/png": "[encoded data removed]",
      "text/plain": [
       "<Figure size 640x480 with 2 Axes>"
      ]
     },
     "metadata": {},
     "output_type": "display_data"
    }
   ],
   "source": [
    "errors_mask = train_data[\"final_score\"] != train_data[\"true_final_score\"]\n",
    "errors_idx = np.where(errors_mask == 1)\n",
    "\n",
    "plot_data(train_data, errors_idx)"
   ]
  },
  {
   "cell_type": "code",
   "execution_count": 5,
   "id": "b2dda65d4deed37d",
   "metadata": {},
   "outputs": [],
   "source": [
    "feature_columns = [\"exam_1\", \"exam_2\", \"exam_3\", \"notes\"]\n",
    "predicted_column = \"final_score\"\n",
    "\n",
    "X_train_raw, y_train = train_data[feature_columns], train_data[predicted_column]\n",
    "X_test_raw, y_test = test_data[feature_columns], test_data[predicted_column]"
   ]
  },
  {
   "cell_type": "markdown",
   "id": "1087127d-a4b2-452f-b3da-1c7881f3f8a5",
   "metadata": {},
   "source": [
    "使用独热编码预处理数据"
   ]
  },
  {
   "cell_type": "code",
   "execution_count": 6,
   "id": "76e102aa3990207d",
   "metadata": {},
   "outputs": [],
   "source": [
    "categorical_features = [\"notes\"]\n",
    "X_train = pd.get_dummies(X_train_raw, columns=categorical_features)\n",
    "X_test = pd.get_dummies(X_test_raw, columns=categorical_features)"
   ]
  },
  {
   "cell_type": "markdown",
   "id": "dd69f65c-4856-4600-8c69-7369bb8b13bb",
   "metadata": {},
   "source": [
    "## 叁丨定义回归模型并使用CleanLab查找潜在标签错误\n",
    "\n",
    "定义一个直方图梯度提升模型，并使用`find_label_issues`方法查找数据集的数字标签列中的潜在错误。\n",
    "\n",
    "可以替换成任何其他与sklearn兼容的回归模型\n",
    "\n",
    "`CleanLearning`通过交叉验证和引导法在内部拟合回归模型的多个副本，以计算数据集的预测和不确定性，用于识别标签问题。"
   ]
  },
  {
   "cell_type": "code",
   "execution_count": 7,
   "id": "3983ccda-5a9a-41a6-b3e2-3f072d590d4e",
   "metadata": {},
   "outputs": [],
   "source": [
    "model = HistGradientBoostingRegressor()\n",
    "cl = CleanLearning(model)\n",
    "\n",
    "label_issues = cl.find_label_issues(X_train, y_train)"
   ]
  },
  {
   "cell_type": "markdown",
   "id": "cb0d279f-f656-40fa-b086-bc3edf9af53c",
   "metadata": {},
   "source": [
    "此方法返回一个DataFrame，包含每个样本的标签质量分数（0-1之间）。分数越低，被错误标记的可能性就越大。"
   ]
  },
  {
   "cell_type": "code",
   "execution_count": 8,
   "id": "22da614c-dbfb-4740-853b-2faef9ceea0e",
   "metadata": {},
   "outputs": [
    {
     "data": {
      "text/html": [
       "<div>\n",
       "<style scoped>\n",
       "    .dataframe tbody tr th:only-of-type {\n",
       "        vertical-align: middle;\n",
       "    }\n",
       "\n",
       "    .dataframe tbody tr th {\n",
       "        vertical-align: top;\n",
       "    }\n",
       "\n",
       "    .dataframe thead th {\n",
       "        text-align: right;\n",
       "    }\n",
       "</style>\n",
       "<table border=\"1\" class=\"dataframe\">\n",
       "  <thead>\n",
       "    <tr style=\"text-align: right;\">\n",
       "      <th></th>\n",
       "      <th>is_label_issue</th>\n",
       "      <th>label_quality</th>\n",
       "      <th>given_label</th>\n",
       "      <th>predicted_label</th>\n",
       "    </tr>\n",
       "  </thead>\n",
       "  <tbody>\n",
       "    <tr>\n",
       "      <th>0</th>\n",
       "      <td>False</td>\n",
       "      <td>0.230476</td>\n",
       "      <td>73.3</td>\n",
       "      <td>77.058670</td>\n",
       "    </tr>\n",
       "    <tr>\n",
       "      <th>1</th>\n",
       "      <td>False</td>\n",
       "      <td>0.804244</td>\n",
       "      <td>83.8</td>\n",
       "      <td>83.212808</td>\n",
       "    </tr>\n",
       "    <tr>\n",
       "      <th>2</th>\n",
       "      <td>True</td>\n",
       "      <td>0.050572</td>\n",
       "      <td>73.5</td>\n",
       "      <td>62.947544</td>\n",
       "    </tr>\n",
       "    <tr>\n",
       "      <th>3</th>\n",
       "      <td>False</td>\n",
       "      <td>0.280991</td>\n",
       "      <td>78.6</td>\n",
       "      <td>75.172543</td>\n",
       "    </tr>\n",
       "    <tr>\n",
       "      <th>4</th>\n",
       "      <td>False</td>\n",
       "      <td>0.466165</td>\n",
       "      <td>74.1</td>\n",
       "      <td>76.343107</td>\n",
       "    </tr>\n",
       "  </tbody>\n",
       "</table>\n",
       "</div>"
      ],
      "text/plain": [
       "   is_label_issue  label_quality  given_label  predicted_label\n",
       "0           False       0.230476         73.3        77.058670\n",
       "1           False       0.804244         83.8        83.212808\n",
       "2            True       0.050572         73.5        62.947544\n",
       "3           False       0.280991         78.6        75.172543\n",
       "4           False       0.466165         74.1        76.343107"
      ]
     },
     "execution_count": 8,
     "metadata": {},
     "output_type": "execute_result"
    }
   ],
   "source": [
    "label_issues.head()"
   ]
  },
  {
   "cell_type": "code",
   "execution_count": 9,
   "id": "2c56d076-d158-47a7-9b74-a7ed7ae351e0",
   "metadata": {},
   "outputs": [
    {
     "name": "stdout",
     "output_type": "stream",
     "text": [
      "cleanlab found 141 potential label errors in the dataset.\n",
      "Here are indices of the top 10 most likely errors: \n",
      " [659  56 318 367 688 560 657 685 305 289]\n"
     ]
    }
   ],
   "source": [
    "# 可以获取标记有标签问题的样本子集按照标签质量分数排序以找到最有可能标记错误的10个样本的索引\n",
    "identified_issues = label_issues[label_issues[\"is_label_issue\"] == True]\n",
    "lowest_quality_labels = label_issues[\"label_quality\"].argsort()[:10].to_numpy()\n",
    "print(\n",
    "    f\"cleanlab found {len(identified_issues)} potential label errors in the dataset.\\n\"\n",
    "    f\"Here are indices of the top 10 most likely errors: \\n {lowest_quality_labels}\"\n",
    ")"
   ]
  },
  {
   "cell_type": "code",
   "execution_count": 10,
   "id": "f4f11f77-191c-4260-baae-f648fd25346d",
   "metadata": {},
   "outputs": [
    {
     "data": {
      "text/html": [
       "<div>\n",
       "<style scoped>\n",
       "    .dataframe tbody tr th:only-of-type {\n",
       "        vertical-align: middle;\n",
       "    }\n",
       "\n",
       "    .dataframe tbody tr th {\n",
       "        vertical-align: top;\n",
       "    }\n",
       "\n",
       "    .dataframe thead th {\n",
       "        text-align: right;\n",
       "    }\n",
       "</style>\n",
       "<table border=\"1\" class=\"dataframe\">\n",
       "  <thead>\n",
       "    <tr style=\"text-align: right;\">\n",
       "      <th></th>\n",
       "      <th>exam_1</th>\n",
       "      <th>exam_2</th>\n",
       "      <th>exam_3</th>\n",
       "      <th>notes</th>\n",
       "      <th>given_label</th>\n",
       "      <th>predicted_label</th>\n",
       "    </tr>\n",
       "  </thead>\n",
       "  <tbody>\n",
       "    <tr>\n",
       "      <th>659</th>\n",
       "      <td>67</td>\n",
       "      <td>93</td>\n",
       "      <td>93</td>\n",
       "      <td>NaN</td>\n",
       "      <td>17.4</td>\n",
       "      <td>84.7</td>\n",
       "    </tr>\n",
       "    <tr>\n",
       "      <th>56</th>\n",
       "      <td>75</td>\n",
       "      <td>83</td>\n",
       "      <td>69</td>\n",
       "      <td>NaN</td>\n",
       "      <td>8.9</td>\n",
       "      <td>72.5</td>\n",
       "    </tr>\n",
       "    <tr>\n",
       "      <th>318</th>\n",
       "      <td>41</td>\n",
       "      <td>88</td>\n",
       "      <td>98</td>\n",
       "      <td>missed class frequently -10</td>\n",
       "      <td>0.0</td>\n",
       "      <td>67.0</td>\n",
       "    </tr>\n",
       "    <tr>\n",
       "      <th>367</th>\n",
       "      <td>78</td>\n",
       "      <td>0</td>\n",
       "      <td>86</td>\n",
       "      <td>NaN</td>\n",
       "      <td>0.0</td>\n",
       "      <td>57.9</td>\n",
       "    </tr>\n",
       "    <tr>\n",
       "      <th>688</th>\n",
       "      <td>91</td>\n",
       "      <td>68</td>\n",
       "      <td>88</td>\n",
       "      <td>NaN</td>\n",
       "      <td>36.3</td>\n",
       "      <td>80.6</td>\n",
       "    </tr>\n",
       "  </tbody>\n",
       "</table>\n",
       "</div>"
      ],
      "text/plain": [
       "     exam_1  exam_2  exam_3                        notes  given_label  \\\n",
       "659      67      93      93                          NaN         17.4   \n",
       "56       75      83      69                          NaN          8.9   \n",
       "318      41      88      98  missed class frequently -10          0.0   \n",
       "367      78       0      86                          NaN          0.0   \n",
       "688      91      68      88                          NaN         36.3   \n",
       "\n",
       "     predicted_label  \n",
       "659             84.7  \n",
       "56              72.5  \n",
       "318             67.0  \n",
       "367             57.9  \n",
       "688             80.6  "
      ]
     },
     "execution_count": 10,
     "metadata": {},
     "output_type": "execute_result"
    }
   ],
   "source": [
    "def view_datapoint(index):\n",
    "    given_labels = label_issues[\"given_label\"]\n",
    "    predicted_labels = label_issues[\"predicted_label\"].round(1)\n",
    "    return pd.concat(\n",
    "        [X_train_raw, given_labels, predicted_labels], axis=1\n",
    "    ).iloc[index]\n",
    "\n",
    "view_datapoint(lowest_quality_labels[:5])"
   ]
  },
  {
   "cell_type": "markdown",
   "id": "ada75f99-e629-4234-bc62-b2be54b85899",
   "metadata": {},
   "source": [
    "## 肆丨从噪声标签中训练出更鲁棒的模型\n",
    "\n",
    "cleanlab可以过滤嘈杂的样本并在剩余干净的数据上训练模型"
   ]
  },
  {
   "cell_type": "markdown",
   "id": "ee10de07-8a22-4026-8b5b-e757cf076b02",
   "metadata": {},
   "source": [
    "### 1. 建立基准"
   ]
  },
  {
   "cell_type": "code",
   "execution_count": 11,
   "id": "f2717d51-0aef-46ac-82d5-833bac7d06d7",
   "metadata": {},
   "outputs": [
    {
     "name": "stdout",
     "output_type": "stream",
     "text": [
      "r-squared score of original model: 0.838\n"
     ]
    }
   ],
   "source": [
    "baseline_model = HistGradientBoostingRegressor()\n",
    "baseline_model.fit(X_train, y_train)\n",
    "\n",
    "preds_og = baseline_model.predict(X_test)\n",
    "r2_og = r2_score(y_test, preds_og)\n",
    "print(f\"r-squared score of original model: {r2_og:.3f}\")"
   ]
  },
  {
   "cell_type": "markdown",
   "id": "851e3b2a-5171-4dd8-975e-40654497d455",
   "metadata": {},
   "source": [
    "通过`label_issues`参数传递已经计算的标签问题。\n",
    "\n",
    "不传递`label_issues`时，将通过交叉验证重新估计"
   ]
  },
  {
   "cell_type": "code",
   "execution_count": 12,
   "id": "8e873638-5d35-490c-94cd-a8be02814c9a",
   "metadata": {},
   "outputs": [
    {
     "name": "stdout",
     "output_type": "stream",
     "text": [
      "r-squared score of cleanlab's model: 0.916\n"
     ]
    }
   ],
   "source": [
    "found_label_issues = cl.get_label_issues()\n",
    "cl.fit(X_train, y_train, label_issues=found_label_issues)\n",
    "\n",
    "preds_cl = cl.predict(X_test)\n",
    "r2_cl = r2_score(y_test, preds_cl)\n",
    "print(f\"r-squared score of cleanlab's model: {r2_cl:.3f}\")"
   ]
  },
  {
   "cell_type": "markdown",
   "id": "fb64304f-1da0-40dd-9469-74991807624c",
   "metadata": {},
   "source": [
    "## 伍丨在回归数据集中查找噪声标签的其他方法\n",
    "\n",
    "如果模型或数据与CleanLearning不兼容，可以对回归模型运行交叉验证以获取样本外预测，然后使用Datalab评估数据集中每个样本的质量分数"
   ]
  },
  {
   "cell_type": "code",
   "execution_count": 13,
   "id": "018b3345-f904-48fc-bc31-03f452439346",
   "metadata": {},
   "outputs": [
    {
     "name": "stdout",
     "output_type": "stream",
     "text": [
      "Finding label issues ...\n",
      "\n",
      "Audit complete. 50 issues found in the dataset.\n"
     ]
    }
   ],
   "source": [
    "# Get out-of-sample predictions using cross-validation:\n",
    "model = HistGradientBoostingRegressor()\n",
    "predictions = cross_val_predict(estimator=model, X=X_train, y=y_train)\n",
    "\n",
    "\n",
    "from cleanlab import Datalab\n",
    "\n",
    "lab = Datalab(\n",
    "    data=train_data.drop(columns=[\"true_final_score\"]),\n",
    "    label_name=\"final_score\",\n",
    "    task=\"regression\",\n",
    ")\n",
    "\n",
    "lab.find_issues(\n",
    "    pred_probs=predictions,\n",
    "    issue_types={\"label\": {}},  # specify we're only interested in label issues here\n",
    ")\n",
    "\n",
    "\n",
    "label_issues = lab.get_issues(\"label\")"
   ]
  },
  {
   "cell_type": "code",
   "execution_count": 14,
   "id": "e21a0d8e-c2cc-43f0-8581-945ca8c46c1d",
   "metadata": {},
   "outputs": [
    {
     "data": {
      "text/html": [
       "<div>\n",
       "<style scoped>\n",
       "    .dataframe tbody tr th:only-of-type {\n",
       "        vertical-align: middle;\n",
       "    }\n",
       "\n",
       "    .dataframe tbody tr th {\n",
       "        vertical-align: top;\n",
       "    }\n",
       "\n",
       "    .dataframe thead th {\n",
       "        text-align: right;\n",
       "    }\n",
       "</style>\n",
       "<table border=\"1\" class=\"dataframe\">\n",
       "  <thead>\n",
       "    <tr style=\"text-align: right;\">\n",
       "      <th></th>\n",
       "      <th>is_label_issue</th>\n",
       "      <th>label_score</th>\n",
       "      <th>given_label</th>\n",
       "      <th>predicted_label</th>\n",
       "    </tr>\n",
       "  </thead>\n",
       "  <tbody>\n",
       "    <tr>\n",
       "      <th>318</th>\n",
       "      <td>True</td>\n",
       "      <td>1.968627e-09</td>\n",
       "      <td>0.0</td>\n",
       "      <td>78.228799</td>\n",
       "    </tr>\n",
       "    <tr>\n",
       "      <th>659</th>\n",
       "      <td>True</td>\n",
       "      <td>2.646674e-08</td>\n",
       "      <td>17.4</td>\n",
       "      <td>86.402962</td>\n",
       "    </tr>\n",
       "    <tr>\n",
       "      <th>56</th>\n",
       "      <td>True</td>\n",
       "      <td>4.323818e-08</td>\n",
       "      <td>8.9</td>\n",
       "      <td>75.952758</td>\n",
       "    </tr>\n",
       "    <tr>\n",
       "      <th>160</th>\n",
       "      <td>True</td>\n",
       "      <td>2.422144e-07</td>\n",
       "      <td>0.0</td>\n",
       "      <td>60.456908</td>\n",
       "    </tr>\n",
       "    <tr>\n",
       "      <th>367</th>\n",
       "      <td>True</td>\n",
       "      <td>8.465815e-07</td>\n",
       "      <td>0.0</td>\n",
       "      <td>55.753968</td>\n",
       "    </tr>\n",
       "  </tbody>\n",
       "</table>\n",
       "</div>"
      ],
      "text/plain": [
       "     is_label_issue   label_score  given_label  predicted_label\n",
       "318            True  1.968627e-09          0.0        78.228799\n",
       "659            True  2.646674e-08         17.4        86.402962\n",
       "56             True  4.323818e-08          8.9        75.952758\n",
       "160            True  2.422144e-07          0.0        60.456908\n",
       "367            True  8.465815e-07          0.0        55.753968"
      ]
     },
     "execution_count": 14,
     "metadata": {},
     "output_type": "execute_result"
    }
   ],
   "source": [
    "label_issues.sort_values(\"label_score\").head()"
   ]
  },
  {
   "cell_type": "markdown",
   "id": "fa9c6a5f-28a6-481a-888e-d32adb3e96d1",
   "metadata": {},
   "source": [
    "建议使用`CleanLearning`包装回归模型，而不是直接提供预测结果。\n",
    "\n",
    "这样做可以更好的考虑回归模型中的不确定性（包括随机不确定性和模型不确定性）"
   ]
  },
  {
   "cell_type": "code",
   "execution_count": 15,
   "id": "bbe5f3d0-8e28-4243-8366-d1a29633eddc",
   "metadata": {},
   "outputs": [
    {
     "name": "stdout",
     "output_type": "stream",
     "text": [
      "Finding label issues ...\n",
      "\n",
      "Audit complete. 150 issues found in the dataset.\n"
     ]
    }
   ],
   "source": [
    "lab = Datalab(\n",
    "    data=train_data.drop(columns=[\"true_final_score\"]),\n",
    "    label_name=\"final_score\",\n",
    "    task=\"regression\",\n",
    ")\n",
    "\n",
    "lab.find_issues(\n",
    "    features=X_train,\n",
    "    issue_types={  # Optional drop this to simultaneously detect many types of data/label issues\n",
    "        \"label\": {\n",
    "            # Optional: Specify which type of 🔟 scikit-learn-compatible regression model is used to find label errors\n",
    "            \"clean_learning_kwargs\": {\"model\": HistGradientBoostingRegressor()}\n",
    "        }\n",
    "    },\n",
    ")\n"
   ]
  },
  {
   "cell_type": "markdown",
   "id": "2ebaa7fe-39c4-406d-8943-3b267a55877e",
   "metadata": {},
   "source": []
  }
 ],
 "metadata": {
  "kernelspec": {
   "display_name": "Python 3 (ipykernel)",
   "language": "python",
   "name": "python3"
  },
  "language_info": {
   "codemirror_mode": {
    "name": "ipython",
    "version": 3
   },
   "file_extension": ".py",
   "mimetype": "text/x-python",
   "name": "python",
   "nbconvert_exporter": "python",
   "pygments_lexer": "ipython3",
   "version": "3.11.8"
  }
 },
 "nbformat": 4,
 "nbformat_minor": 5
}
